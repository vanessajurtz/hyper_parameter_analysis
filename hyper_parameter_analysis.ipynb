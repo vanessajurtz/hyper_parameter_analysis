{
 "cells": [
  {
   "cell_type": "code",
   "execution_count": 1,
   "metadata": {
    "collapsed": false
   },
   "outputs": [
    {
     "name": "stdout",
     "output_type": "stream",
     "text": [
      "warning in stationary: failed to import cython module: falling back to numpy\n"
     ]
    }
   ],
   "source": [
    "import matplotlib.pyplot as plt\n",
    "import csv\n",
    "import random\n",
    "import math\n",
    "import numpy as np\n",
    "import GPy\n",
    "%matplotlib inline\n"
   ]
  },
  {
   "cell_type": "markdown",
   "metadata": {},
   "source": [
    "# Hyper parameter analysis\n",
    "\n",
    "Hyper parameter analysis is inspired by  <a href=\"http://www.jmlr.org/papers/volume13/bergstra12a/bergstra12a.pdf\">Bergstra et al. 2012</a>.\n",
    "\n",
    "The file hp_pcc_auc.txt contains hyper parameter settings for training convolutional neural networks and the correspondong performance results. The individual hyper parameter settings were selected using random search.\n",
    "\n",
    "In a first step I will assess if enough trials were performed to obtain an optimal solution. This is done by grouping the randomly selected hyper parameter settings randomly into groups of different sizes and selecting the best performing model. One of these groups is seen as an independent experiment and boxplots are made of the best performing hyper paramter settings in each experiment. Very small spread of the boxplot indicates that  enough expermints were performed."
   ]
  },
  {
   "cell_type": "code",
   "execution_count": 5,
   "metadata": {
    "collapsed": false
   },
   "outputs": [
    {
     "data": {
      "image/png": "[encoded data removed]",
      "text/plain": [
       "<matplotlib.figure.Figure at 0x10b3e9b10>"
      ]
     },
     "metadata": {},
     "output_type": "display_data"
    }
   ],
   "source": [
    "# read in Data:\n",
    "\n",
    "results=[]\n",
    "with open('hp_pcc_auc.txt', 'rb') as infile:\n",
    "    results = list(csv.reader(infile, delimiter='\\t'))\n",
    "results=filter(None,results)\n",
    "\n",
    "#get AUC:\n",
    "auc=[x[9] for x in results]\n",
    "del auc[0]\n",
    "#replace NA with NaN\n",
    "auc = [x if x != 'NA' else 'NaN' for x in auc]\n",
    "auc = [ float(x) for x in auc ]\n",
    "\n",
    "\n",
    "def sample_data(data,length,size):\n",
    "    # randomize order of data:\n",
    "    random.shuffle(data)\n",
    "    # initialize output array:\n",
    "    out = []\n",
    "    # partition data and extract max:\n",
    "    i=0\n",
    "    while (i<length):\n",
    "        out.append( max(data[i : (i+size-1)]))\n",
    "        i += size\n",
    "    return out\n",
    "\n",
    "\n",
    "#auc=auc.reshape((auc.shape[0],1))\n",
    "d = [auc,\n",
    "    sample_data(auc, len(auc), 2),\n",
    "    sample_data(auc, len(auc), 4),\n",
    "    sample_data(auc, len(auc), 6),\n",
    "    sample_data(auc, len(auc), 8),\n",
    "    sample_data(auc, len(auc), 10),\n",
    "    sample_data(auc, len(auc), 20),\n",
    "    sample_data(auc, len(auc), 50),\n",
    "    sample_data(auc, len(auc), 100)]\n",
    "\n",
    "\n",
    "fig = plt.figure(figsize=(6,5))\n",
    "\n",
    "ax1 = fig.add_subplot(111)\n",
    "ax1.set_title(\"Best performance per number of trials\")\n",
    "ax1.boxplot(d, labels=[\"1\",\"2\",\"4\",\"6\",\"8\",\"10\",\"20\",\"50\",\"100\"])\n",
    "ax1.set_xlabel(\"number of trials\")\n",
    "ax1.set_ylabel(\"AUC\")\n",
    "plt.show()\n",
    "\n"
   ]
  },
  {
   "cell_type": "markdown",
   "metadata": {},
   "source": [
    "Next the importance of the individual hyper parameters is assesed."
   ]
  },
  {
   "cell_type": "code",
   "execution_count": 6,
   "metadata": {
    "collapsed": false
   },
   "outputs": [
    {
     "data": {
      "image/png": "[encoded data removed]",
      "text/plain": [
       "<matplotlib.figure.Figure at 0x11b21e3d0>"
      ]
     },
     "metadata": {},
     "output_type": "display_data"
    }
   ],
   "source": [
    "\n",
    "# get hyper parameter settings\n",
    "\n",
    "architecture = [x[0] for x in results]\n",
    "update = [x[1] for x in results]\n",
    "activation = [x[2] for x in results]\n",
    "dropout = [x[3] for x in results]\n",
    "n_filters = [x[4] for x in results]\n",
    "learning_rate = [x[5] for x in results]\n",
    "n_hidden = [x[6] for x in results]\n",
    "mini_batch_size = [x[7] for x in results]\n",
    "\n",
    "del architecture[0]\n",
    "del update[0]\n",
    "del activation[0]\n",
    "\n",
    "del dropout[0]\n",
    "del n_filters[0]\n",
    "del learning_rate[0]\n",
    "del n_hidden[0]\n",
    "del mini_batch_size[0]\n",
    "\n",
    "# encode as integers:\n",
    "_,architecture = np.unique(np.asarray(architecture), return_inverse=True)\n",
    "_,update = np.unique(np.asarray(update), return_inverse=True)\n",
    "_,activation = np.unique(np.asarray(activation), return_inverse=True)\n",
    "\n",
    "# as float:\n",
    "dropout = [math.log(float(x),10) if x!='0.0' else -1.5 for x in dropout]\n",
    "n_filters = [math.log(float(x),10) for x in n_filters]\n",
    "learning_rate = [math.log(float(x),10) for x in learning_rate]\n",
    "n_hidden = [math.log(float(x),10) for x in n_hidden]\n",
    "mini_batch_size = [math.log(float(x),10) for x in mini_batch_size]\n",
    "\n",
    "# shift and scale to unit interval:\n",
    "architecture = [(x-min(architecture))/(max(architecture)-min(architecture)) for x in architecture]\n",
    "update = [(x-min(update))/(max(update)-min(update)) for x in update]\n",
    "activation = [(x-min(activation))/(max(activation)-min(activation)) for x in activation]\n",
    "dropout = [(x-min(dropout))/(max(dropout)-min(dropout)) for x in dropout]\n",
    "n_filters = [(x-min(n_filters))/(max(n_filters)-min(n_filters)) for x in n_filters]\n",
    "learning_rate = [(x-min(learning_rate))/(max(learning_rate)-min(learning_rate)) for x in learning_rate]\n",
    "n_hidden = [(x-min(n_hidden))/(max(n_hidden)-min(n_hidden)) for x in n_hidden]\n",
    "mini_batch_size = [(x-min(mini_batch_size))/(max(mini_batch_size)-min(mini_batch_size)) for x in mini_batch_size]\n",
    "\n",
    "X=[architecture, update, activation, dropout, n_filters, learning_rate, n_hidden, mini_batch_size,auc]\n",
    "\n",
    "X = (np.asarray(X)).T\n",
    "#auc = np.asarray(auc).reshape((-1,1))\n",
    "\n",
    "# remove NaN:\n",
    "X = X[~np.isnan(X).any(axis=1)]\n",
    "\n",
    "# np array to hold lengthscale values:\n",
    "iterations = 50\n",
    "lscales=np.zeros((X.shape[1]-1,iterations))\n",
    "\n",
    "# draw random subsamples of data\n",
    "n=int(math.floor(0.8*X.shape[0]))\n",
    "\n",
    "for i in range(0,iterations):\n",
    "    np.random.shuffle(X)\n",
    "    \n",
    "    Xn = X[0:n, :-1]\n",
    "    aucn =(X[0:n:,8]).reshape((-1,1))\n",
    "    \n",
    "    # define kernel:\n",
    "    ker = GPy.kern.Exponential(Xn.shape[1],ARD=True)\n",
    "    # create model:\n",
    "    m = GPy.models.GPRegression(Xn,aucn,ker)\n",
    "    # fit:\n",
    "    m.optimize(max_f_eval = 10000)\n",
    "    # save lengthscale:\n",
    "    lscales[:,i] = m.Exponential.lengthscale\n",
    "\n",
    "\n",
    "l=[1/x for x in lscales]\n",
    "\n",
    "# plot \n",
    "fig = plt.figure(figsize=(6,5))\n",
    "\n",
    "ax1 = fig.add_subplot(111)\n",
    "ax1.set_title(\"parameter improtance\")\n",
    "ax1.boxplot(l, vert=False, labels=[\"architecture\", \n",
    "                       \"update\", \n",
    "                       \"activation\", \n",
    "                       \"dropout\", \n",
    "                       \"n_filters\", \n",
    "                       \"learning_rate\", \n",
    "                       \"n_hidden\", \n",
    "                       \"mini_batch_size\"])\n",
    "ax1.set_xlabel(\"relevance (1/lengthscale)\")\n",
    "#savefig('foo.png', bbox_inches='tight')\n",
    "plt.show()\n"
   ]
  },
  {
   "cell_type": "code",
   "execution_count": null,
   "metadata": {
    "collapsed": true
   },
   "outputs": [],
   "source": []
  }
 ],
 "metadata": {
  "kernelspec": {
   "display_name": "Python 2",
   "language": "python",
   "name": "python2"
  },
  "language_info": {
   "codemirror_mode": {
    "name": "ipython",
    "version": 2
   },
   "file_extension": ".py",
   "mimetype": "text/x-python",
   "name": "python",
   "nbconvert_exporter": "python",
   "pygments_lexer": "ipython2",
   "version": "2.7.10"
  }
 },
 "nbformat": 4,
 "nbformat_minor": 0
}
